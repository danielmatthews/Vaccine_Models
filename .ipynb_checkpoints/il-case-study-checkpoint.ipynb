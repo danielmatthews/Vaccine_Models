{
 "cells": [
  {
   "cell_type": "code",
   "execution_count": 1,
   "id": "mobile-house",
   "metadata": {},
   "outputs": [],
   "source": [
    "import pymc3 as pm\n",
    "import pandas as pd\n",
    "import numpy as np\n",
    "import matplotlib.pyplot as plt\n"
   ]
  },
  {
   "cell_type": "code",
   "execution_count": 2,
   "id": "established-induction",
   "metadata": {},
   "outputs": [],
   "source": [
    "c = pd.read_csv(\"vaccine_data_us_state_timeline.csv\")"
   ]
  },
  {
   "cell_type": "code",
   "execution_count": 3,
   "id": "elect-maldives",
   "metadata": {},
   "outputs": [],
   "source": [
    "il = c[c[\"stabbr\"] == \"IL\"]"
   ]
  },
  {
   "cell_type": "markdown",
   "id": "entire-northern",
   "metadata": {},
   "source": [
    "\n"
   ]
  },
  {
   "cell_type": "code",
   "execution_count": 4,
   "id": "devoted-lloyd",
   "metadata": {},
   "outputs": [
    {
     "data": {
      "text/plain": [
       "<AxesSubplot:xlabel='date'>"
      ]
     },
     "execution_count": 4,
     "metadata": {},
     "output_type": "execute_result"
    },
    {
     "data": {
      "image/png": "[encoded data removed]",
      "text/plain": [
       "<Figure size 432x288 with 1 Axes>"
      ]
     },
     "metadata": {
      "needs_background": "light"
     },
     "output_type": "display_data"
    }
   ],
   "source": [
    "il.set_index(\"date\")[\"people_total\"].dropna().astype(int).plot()"
   ]
  },
  {
   "cell_type": "markdown",
   "id": "exciting-compensation",
   "metadata": {},
   "source": [
    "Want to Generate an \"SIR\"-like model. Need populations as well as eligibility for each phase category"
   ]
  },
  {
   "cell_type": "code",
   "execution_count": 5,
   "id": "innovative-penguin",
   "metadata": {},
   "outputs": [],
   "source": [
    "d = pd.read_excel(\"nst-est2019-01.xlsx\")"
   ]
  },
  {
   "cell_type": "code",
   "execution_count": 6,
   "id": "entertaining-calculation",
   "metadata": {},
   "outputs": [],
   "source": [
    "total_population = d.set_index(d.iloc[:,0]).drop(d.columns[0], axis=1).T[\".Illinois\"].iloc[-1]\n",
    "\n",
    "# Percentages willing to take vaccine\n",
    "# https://news.gallup.com/poll/328415/readiness-covid-vaccine-steadies.aspx\n",
    "overall_percent_willing = 0.65\n",
    "overall_percent_not_willing = 0.30\n",
    "overall_percent_uncertain = 1 -  overall_percent_willing - overall_percent_not_willing\n",
    "\n",
    "# Phase 1A - health care, long-term care\n",
    "health_care_percent = 0.072 # https://www.kff.org/coronavirus-covid-19/issue-brief/estimates-of-the-initial-priority-population-for-covid-19-vaccination-by-state/\n",
    "\n",
    "# Phase 1B - 65 and older, essential workers, inmates\n",
    "percent_65older = 0.16 # https://www.census.gov/quickfacts/IL\n",
    "\n",
    "inmate_count = 58000 # https://www2.illinois.gov/idoc/reportsandstatistics/Pages/Prison-Population-Data-Sets.aspx\n",
    "inmate_percent = inmate_count / total_population\n",
    "\n",
    "essential_and_frontline_percent = 0.71 #https://www.nytimes.com/2020/12/05/health/covid-vaccine-first.html\n",
    "\n",
    "# Phase 1C - 16-64 high risk\n",
    "# Take obesity as the dominant factor and make it that https://news.wttw.com/2019/09/12/report-obesity-rates-rising-illinois-across-country\n",
    "percent_at_risk = 0.318"
   ]
  },
  {
   "cell_type": "markdown",
   "id": "viral-disclaimer",
   "metadata": {},
   "source": [
    "Groups are not mutually exclusive, with the exception of inmates with frontline workers and health care workers, however inmate population is a small enough effect that this double counting can be overlooked. So we'll take them as probabilities to be in each demographic and simulate people"
   ]
  },
  {
   "cell_type": "code",
   "execution_count": 7,
   "id": "disabled-ontario",
   "metadata": {},
   "outputs": [],
   "source": [
    "willingness = np.random.random(size=int(total_population))\n",
    "health_care = np.random.random(size=int(total_population))\n",
    "age = np.random.random(size=int(total_population))\n",
    "inmate = np.random.random(size=int(total_population))\n",
    "essential = np.random.random(size=int(total_population))\n",
    "at_risk = np.random.random(size=int(total_population))"
   ]
  },
  {
   "cell_type": "code",
   "execution_count": 8,
   "id": "frozen-student",
   "metadata": {},
   "outputs": [],
   "source": [
    "simulated_population = pd.DataFrame()\n",
    "\n",
    "bins = [0, 2, 18, 35, 65, np.inf]\n",
    "names = ['<2', '2-18', '18-35', '35-65', '65+']\n",
    "\n",
    "simulated_population['willing'] = pd.cut(willingness, \n",
    "                                         [0, overall_percent_willing, overall_percent_willing + overall_percent_not_willing, 1.0], \n",
    "                                         labels=[\"willing\", \"not_willing\",\"undecided\"])\n",
    "simulated_population[\"health_care\"] = health_care <= health_care_percent\n",
    "simulated_population[\"older65\"] = age <= percent_65older\n",
    "simulated_population[\"inmate\"] = inmate <= inmate_percent\n",
    "simulated_population[\"frontline\"] = essential <= essential_and_frontline_percent\n",
    "simulated_population[\"at_risk\"] = at_risk <= percent_at_risk"
   ]
  },
  {
   "cell_type": "code",
   "execution_count": 9,
   "id": "medieval-biodiversity",
   "metadata": {},
   "outputs": [],
   "source": [
    "simulated_population[\"phase_1A\"] = simulated_population[\"health_care\"]\n",
    "simulated_population[\"phase_1B\"] = simulated_population[\"phase_1A\"] | simulated_population[\"health_care\"] | simulated_population[\"inmate\"] | simulated_population[\"older65\"]\n",
    "simulated_population[\"phase_1C\"] = simulated_population[\"phase_1B\"] | simulated_population[\"at_risk\"]\n",
    "simulated_population[\"phase_2\"] = True"
   ]
  },
  {
   "cell_type": "code",
   "execution_count": 10,
   "id": "instructional-boost",
   "metadata": {},
   "outputs": [
    {
     "data": {
      "text/plain": [
       "Text(0.5, 0, 'Phase')"
      ]
     },
     "execution_count": 10,
     "metadata": {},
     "output_type": "execute_result"
    },
    {
     "data": {
      "image/png": "[encoded data removed]",
      "text/plain": [
       "<Figure size 432x288 with 1 Axes>"
      ]
     },
     "metadata": {
      "needs_background": "light"
     },
     "output_type": "display_data"
    }
   ],
   "source": [
    "l=[]\n",
    "s=[]\n",
    "for c in [\"phase_1A\", \"phase_1B\", \"phase_1C\", \"phase_2\"]:\n",
    "    l.append(c)\n",
    "    s.append(simulated_population[c].sum() / len(simulated_population))\n",
    "plt.bar(x=l,height=s)\n",
    "plt.ylabel(\"Percent Eligible\")\n",
    "plt.ylim(0,1)\n",
    "plt.xlabel(\"Phase\")"
   ]
  }
 ],
 "metadata": {
  "kernelspec": {
   "display_name": "vaccine",
   "language": "python",
   "name": "vaccine"
  },
  "language_info": {
   "codemirror_mode": {
    "name": "ipython",
    "version": 3
   },
   "file_extension": ".py",
   "mimetype": "text/x-python",
   "name": "python",
   "nbconvert_exporter": "python",
   "pygments_lexer": "ipython3",
   "version": "3.9.1"
  }
 },
 "nbformat": 4,
 "nbformat_minor": 5
}
